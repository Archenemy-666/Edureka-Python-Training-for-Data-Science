{
 "metadata": {
  "language_info": {
   "codemirror_mode": {
    "name": "ipython",
    "version": 3
   },
   "file_extension": ".py",
   "mimetype": "text/x-python",
   "name": "python",
   "nbconvert_exporter": "python",
   "pygments_lexer": "ipython3",
   "version": "3.8.3-final"
  },
  "orig_nbformat": 2,
  "kernelspec": {
   "name": "python37364bitconda1bfe4af0211d406980d8427ccf80ddc6",
   "display_name": "Python 3.7.3 64-bit (conda)"
  }
 },
 "nbformat": 4,
 "nbformat_minor": 2,
 "cells": [
  {
   "cell_type": "code",
   "execution_count": 1,
   "metadata": {
    "tags": []
   },
   "outputs": [
    {
     "output_type": "stream",
     "name": "stdout",
     "text": "Valid Password\n"
    }
   ],
   "source": [
    "import re \n",
    "\n",
    "password = input(\"enter password : \")\n",
    "while True:   \n",
    "    if (len(password)<6 and len(password)>12): \n",
    "        print(\"get hold of your limits\")\n",
    "        break\n",
    "    elif not re.search(\"[a-z]\", password): \n",
    "        print(\"dont you get it include lowercase\")\n",
    "        break\n",
    "    elif not re.search(\"[0-9]\", password): \n",
    "        print(\"eehhhh!!! numbers please\")\n",
    "        break\n",
    "    elif not re.search(\"[A-Z]\", password): \n",
    "        print(\"hey man i need an uppercase too\")\n",
    "        break\n",
    "    elif not re.search(\"[_@$]\", password): \n",
    "        print(\"dont make me swear use the symbols\")\n",
    "        break\n",
    "    else: \n",
    "        print(\"Valid Password\") \n",
    "        break\n",
    "\n"
   ]
  },
  {
   "cell_type": "code",
   "execution_count": 8,
   "metadata": {},
   "outputs": [],
   "source": [
    "s = password\n",
    "x = s.encode('utf-16')"
   ]
  },
  {
   "cell_type": "code",
   "execution_count": 9,
   "metadata": {
    "tags": []
   },
   "outputs": [
    {
     "output_type": "stream",
     "name": "stdout",
     "text": "$idDhath98\n"
    }
   ],
   "source": [
    "y = x.decode('utf-16')\n",
    "print(y)"
   ]
  },
  {
   "cell_type": "code",
   "execution_count": null,
   "metadata": {},
   "outputs": [],
   "source": []
  }
 ]
}