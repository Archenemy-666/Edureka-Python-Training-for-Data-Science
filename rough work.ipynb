{
 "metadata": {
  "language_info": {
   "codemirror_mode": {
    "name": "ipython",
    "version": 3
   },
   "file_extension": ".py",
   "mimetype": "text/x-python",
   "name": "python",
   "nbconvert_exporter": "python",
   "pygments_lexer": "ipython3",
   "version": "3.7.3-final"
  },
  "orig_nbformat": 2,
  "kernelspec": {
   "name": "python37364bitconda1bfe4af0211d406980d8427ccf80ddc6",
   "display_name": "Python 3.7.3 64-bit (conda)"
  }
 },
 "nbformat": 4,
 "nbformat_minor": 2,
 "cells": [
  {
   "cell_type": "code",
   "execution_count": 3,
   "metadata": {
    "tags": []
   },
   "outputs": [
    {
     "output_type": "stream",
     "name": "stdout",
     "text": "average\n"
    }
   ],
   "source": [
    "x = int(input(\"score : \" ))\n",
    "if x > 60 :\n",
    "    print(\"excellent\")\n",
    "elif x > 50 :\n",
    "    print(\"good\")\n",
    "elif x > 25 :\n",
    "    print (\"average\")\n",
    "else :\n",
    "    print(\"fail\") "
   ]
  },
  {
   "cell_type": "code",
   "execution_count": null,
   "metadata": {},
   "outputs": [],
   "source": []
  }
 ]
}